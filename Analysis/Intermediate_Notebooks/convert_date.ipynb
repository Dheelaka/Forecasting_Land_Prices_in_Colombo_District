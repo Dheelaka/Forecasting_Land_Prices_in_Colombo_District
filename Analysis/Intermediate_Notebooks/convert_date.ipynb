{
 "cells": [
  {
   "cell_type": "code",
   "execution_count": 1,
   "metadata": {},
   "outputs": [],
   "source": [
    "import numpy as np\n",
    "import pandas as pd\n",
    "from tabulate import tabulate\n",
    "import seaborn as sns\n",
    "import matplotlib.pyplot as plt\n",
    "import matplotlib.ticker as ticker\n",
    "from fuzzywuzzy import fuzz\n",
    "import re\n",
    "from datetime import datetime"
   ]
  },
  {
   "cell_type": "code",
   "execution_count": 27,
   "metadata": {},
   "outputs": [],
   "source": [
    "land_2023 = pd.read_csv(\"../Dataset/New_Data/Land Data - 2023.csv\", low_memory=False)"
   ]
  },
  {
   "cell_type": "code",
   "execution_count": 28,
   "metadata": {},
   "outputs": [],
   "source": [
    "df = land_2023\n",
    "\n",
    "# Convert the \"posted_date\" column to datetime format\n",
    "df['posted_date'] = pd.to_datetime(df['posted_date'], format='%d/%m/%Y %H:%M')\n",
    "\n",
    "# Swap day and month\n",
    "df['posted_date'] = df['posted_date'].dt.strftime('%m/%d/%Y %H:%M')\n"
   ]
  },
  {
   "cell_type": "code",
   "execution_count": 30,
   "metadata": {},
   "outputs": [],
   "source": [
    "output_csv_path = '../Dataset/New_Data/test.csv' \n",
    "df.to_csv(output_csv_path, index=False)"
   ]
  },
  {
   "cell_type": "code",
   "execution_count": 29,
   "metadata": {},
   "outputs": [
    {
     "data": {
      "text/plain": [
       "0        01/02/2023 02:14\n",
       "1        01/02/2023 02:27\n",
       "2        01/02/2023 02:29\n",
       "3        01/03/2023 09:51\n",
       "4        01/03/2023 10:18\n",
       "               ...       \n",
       "16212    09/07/2023 04:45\n",
       "16213    08/31/2023 02:51\n",
       "16214    03/12/2023 02:49\n",
       "16215    03/12/2023 09:29\n",
       "16216    07/29/2023 09:10\n",
       "Name: posted_date, Length: 16217, dtype: object"
      ]
     },
     "execution_count": 29,
     "metadata": {},
     "output_type": "execute_result"
    }
   ],
   "source": [
    "df['posted_date']"
   ]
  }
 ],
 "metadata": {
  "kernelspec": {
   "display_name": "Python 3 (ipykernel)",
   "language": "python",
   "name": "python3"
  },
  "language_info": {
   "codemirror_mode": {
    "name": "ipython",
    "version": 3
   },
   "file_extension": ".py",
   "mimetype": "text/x-python",
   "name": "python",
   "nbconvert_exporter": "python",
   "pygments_lexer": "ipython3",
   "version": "3.10.5"
  }
 },
 "nbformat": 4,
 "nbformat_minor": 2
}
