{
 "cells": [
  {
   "cell_type": "code",
   "execution_count": 2,
   "metadata": {},
   "outputs": [],
   "source": [
    "import pandas as pd "
   ]
  },
  {
   "cell_type": "code",
   "execution_count": 1,
   "metadata": {},
   "outputs": [],
   "source": [
    "import pandas as pd\n",
    "from opencage.geocoder import OpenCageGeocode\n",
    "\n",
    "# Replace 'YOUR_API_KEY' with the API key you obtained from the OpenCage website\n",
    "api_key = '4975796f45ea4e24b995bfeadf4911fa'\n",
    "geocoder = OpenCageGeocode(api_key)\n",
    "\n",
    "def get_coordinates(location):\n",
    "    try:\n",
    "        # Geocode the location with a country code for Sri Lanka\n",
    "        results = geocoder.geocode(location, countrycode='LK')\n",
    "\n",
    "        # Extract latitude and longitude\n",
    "        if results and len(results):\n",
    "            lat = results[0]['geometry']['lat']\n",
    "            lng = results[0]['geometry']['lng']\n",
    "            return lat, lng\n",
    "        else:\n",
    "            return None, None\n",
    "    except Exception as e:\n",
    "        print(f\"Error geocoding {location}: {e}\")\n",
    "        return None, None\n",
    "\n",
    "def geocode_df(input_df):\n",
    "    input_df['Latitude'] = None\n",
    "    input_df['Longitude'] = None\n",
    "\n",
    "    for index, row in input_df.iterrows():\n",
    "        location = row['city']\n",
    "        lat, lng = get_coordinates(location)\n",
    "\n",
    "        # Update the DataFrame with latitude and longitude\n",
    "        input_df.at[index, 'Latitude'] = lat\n",
    "        input_df.at[index, 'Longitude'] = lng\n",
    "\n",
    "    return input_df\n",
    "\n",
    "if __name__ == \"__main__\":\n",
    "    input_csv_path = \"../Dataset/New_Data/unique_sub_cities.csv\"\n",
    "    input_df = pd.read_csv(input_csv_path, low_memory=False)\n",
    "\n",
    "    # Call the geocoding function\n",
    "    output_df = geocode_df(input_df)\n",
    "\n",
    "    # Save the updated DataFrame to the same CSV file\n",
    "    output_df.to_csv(input_csv_path, index=False)\n"
   ]
  }
 ],
 "metadata": {
  "kernelspec": {
   "display_name": "Python 3",
   "language": "python",
   "name": "python3"
  },
  "language_info": {
   "codemirror_mode": {
    "name": "ipython",
    "version": 3
   },
   "file_extension": ".py",
   "mimetype": "text/x-python",
   "name": "python",
   "nbconvert_exporter": "python",
   "pygments_lexer": "ipython3",
   "version": "3.10.5"
  }
 },
 "nbformat": 4,
 "nbformat_minor": 2
}
