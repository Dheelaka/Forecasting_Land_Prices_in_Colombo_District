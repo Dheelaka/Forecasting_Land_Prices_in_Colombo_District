{
 "cells": [
  {
   "cell_type": "markdown",
   "metadata": {},
   "source": [
    "## Extract location not avalable data"
   ]
  },
  {
   "cell_type": "code",
   "execution_count": 6,
   "metadata": {},
   "outputs": [],
   "source": [
    "import pandas as pd\n",
    "\n",
    "df = pd.read_csv(\"../Dataset/New_Data/7_price_filtered.csv\", low_memory=False)\n",
    "\n",
    "# Extract rows where both 'lat' and 'lng' are NaN (null/None)\n",
    "filtered_df = df[df['lat'].isna() & df['lng'].isna()]\n",
    "\n",
    "#filtered_df = filtered_df.drop(['lat', 'lng'], axis=1)\n",
    "\n",
    "output_csv_path = '../Dataset/New_Data/12_Loc_data_not_Available.csv' \n",
    "filtered_df.to_csv(output_csv_path, index=False)\n"
   ]
  }
 ],
 "metadata": {
  "kernelspec": {
   "display_name": "Python 3",
   "language": "python",
   "name": "python3"
  },
  "language_info": {
   "codemirror_mode": {
    "name": "ipython",
    "version": 3
   },
   "file_extension": ".py",
   "mimetype": "text/x-python",
   "name": "python",
   "nbconvert_exporter": "python",
   "pygments_lexer": "ipython3",
   "version": "3.10.5"
  }
 },
 "nbformat": 4,
 "nbformat_minor": 2
}
